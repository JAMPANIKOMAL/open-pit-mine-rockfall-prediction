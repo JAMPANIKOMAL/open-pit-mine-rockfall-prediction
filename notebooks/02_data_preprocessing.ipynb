{
 "cells": [
  {
   "cell_type": "code",
   "execution_count": 5,
   "id": "17fd7739",
   "metadata": {},
   "outputs": [
    {
     "name": "stdout",
     "output_type": "stream",
     "text": [
      "Original Labels: ['Critical' 'High' 'Low' 'Medium']\n",
      "Encoded Labels: [0 1 2 3]\n",
      "\n",
      "Shape of training features: (4000, 5)\n",
      "Shape of testing features: (1000, 5)\n",
      "\n",
      "Processed data saved successfully.\n"
     ]
    }
   ],
   "source": [
    "# rockfall-prediction-system/notebooks/02_data_preprocessing.py\n",
    "\n",
    "import pandas as pd\n",
    "import numpy as np\n",
    "import os\n",
    "from sklearn.model_selection import train_test_split\n",
    "from sklearn.preprocessing import LabelEncoder\n",
    "\n",
    "# Load the dataset\n",
    "df = pd.read_csv('../data/rockfall_data.csv')\n",
    "\n",
    "# Separate Features (X) and Target (y)\n",
    "X = df.drop('rockfall_risk', axis=1)\n",
    "y = df['rockfall_risk']\n",
    "\n",
    "# Encode the Target Variable\n",
    "label_encoder = LabelEncoder()\n",
    "y_encoded = label_encoder.fit_transform(y)\n",
    "print(\"Original Labels:\", label_encoder.classes_)\n",
    "print(\"Encoded Labels:\", np.unique(y_encoded))\n",
    "\n",
    "\n",
    "# Split Data into Training and Testing Sets\n",
    "X_train, X_test, y_train, y_test = train_test_split(\n",
    "    X, \n",
    "    y_encoded, \n",
    "    test_size=0.2, \n",
    "    random_state=42, \n",
    "    stratify=y_encoded\n",
    ")\n",
    "print(\"\\nShape of training features:\", X_train.shape)\n",
    "print(\"Shape of testing features:\", X_test.shape)\n",
    "\n",
    "# Save Processed Data\n",
    "processed_data_dir = '../data/processed'\n",
    "if not os.path.exists(processed_data_dir):\n",
    "    os.makedirs(processed_data_dir)\n",
    "\n",
    "X_train.to_csv(os.path.join(processed_data_dir, 'X_train.csv'), index=False)\n",
    "X_test.to_csv(os.path.join(processed_data_dir, 'X_test.csv'), index=False)\n",
    "pd.Series(y_train).to_csv(os.path.join(processed_data_dir, 'y_train.csv'), index=False, header=['rockfall_risk'])\n",
    "pd.Series(y_test).to_csv(os.path.join(processed_data_dir, 'y_test.csv'), index=False, header=['rockfall_risk'])\n",
    "\n",
    "print(\"\\nProcessed data saved successfully.\")"
   ]
  }
 ],
 "metadata": {
  "kernelspec": {
   "display_name": "venv",
   "language": "python",
   "name": "python3"
  },
  "language_info": {
   "codemirror_mode": {
    "name": "ipython",
    "version": 3
   },
   "file_extension": ".py",
   "mimetype": "text/x-python",
   "name": "python",
   "nbconvert_exporter": "python",
   "pygments_lexer": "ipython3",
   "version": "3.13.6"
  }
 },
 "nbformat": 4,
 "nbformat_minor": 5
}
